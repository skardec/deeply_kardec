{
  "nbformat": 4,
  "nbformat_minor": 0,
  "metadata": {
    "colab": {
      "provenance": [],
      "authorship_tag": "ABX9TyNvy96FmE24KsdCtYWhJXc2",
      "include_colab_link": true
    },
    "kernelspec": {
      "name": "python3",
      "display_name": "Python 3"
    },
    "language_info": {
      "name": "python"
    }
  },
  "cells": [
    {
      "cell_type": "markdown",
      "metadata": {
        "id": "view-in-github",
        "colab_type": "text"
      },
      "source": [
        "<a href=\"https://colab.research.google.com/github/skardec/deeply_kardec/blob/main/hip%C3%B3tese_m%C3%ADnima_prot%C3%B3tipo.ipynb\" target=\"_parent\"><img src=\"https://colab.research.google.com/assets/colab-badge.svg\" alt=\"Open In Colab\"/></a>"
      ]
    },
    {
      "cell_type": "code",
      "source": [
        "import numpy as np\n",
        "from scipy.optimize import fsolve"
      ],
      "metadata": {
        "id": "bf4n17E1hDjX"
      },
      "execution_count": 1,
      "outputs": []
    },
    {
      "cell_type": "code",
      "source": [
        "\"\"\"\n",
        "Projeto Inicial: Minimização de Hipóteses para Teoremas Geométricos\n",
        "\n",
        "Descrição:\n",
        "Este código implementa um modelo inicial para explorar condições sob as quais\n",
        "um teorema geométrico, neste caso o Teorema de Pitágoras, é válido. A partir\n",
        "da fórmula geral do cosseno:\n",
        "\n",
        "    a^2 = b^2 + c^2 - 2*b*c*cos(A)\n",
        "\n",
        "o algoritmo busca encontrar o ângulo A que satisfaça a relação pitagórica:\n",
        "\n",
        "    a^2 - (b^2 + c^2) = 0\n",
        "\n",
        "usando métodos numéricos (como fsolve). Além disso, verifica se os lados do\n",
        "triângulo satisfazem a desigualdade triangular, garantindo que o triângulo\n",
        "é válido.\n",
        "\n",
        "O objetivo deste projeto inicial é determinar a hipotenusa mínima para que o\n",
        "triângulo seja retângulo, chegando à conclusão de que A ≈ π/2 e,\n",
        "consequentemente, que a^2 ≈ b^2 + c^2.\n",
        "\n",
        "Esta implementação serve como base para futuras generalizações, onde\n",
        "pretendemos criar um \"minimizador de hipóteses\" capaz de testar as condições\n",
        "de validade de outros teoremas geométricos de forma numérica e automática.\n",
        "\"\"\"\n"
      ],
      "metadata": {
        "id": "ZJC9aKe0i37V"
      },
      "execution_count": null,
      "outputs": []
    },
    {
      "cell_type": "code",
      "source": [
        "\n",
        "# ----------------------------\n",
        "# Função que representa a equação do cosseno\n",
        "# a^2 = b^2 + c^2 - 2*b*c*cos(A)\n",
        "# Queremos encontrar A tal que a^2 - (b^2 + c^2) = 0\n",
        "# ----------------------------\n",
        "def equacao_cosseno(A, a, b, c):\n",
        "    \"\"\"\n",
        "    Calcula a diferença entre a^2 e a^2 pelo cosseno.\n",
        "    Idealmente, queremos que seja zero quando o triângulo é retângulo.\n",
        "    \"\"\"\n",
        "    return a**2 - (b**2 + c**2 - 2*b*c*np.cos(A))\n",
        "\n",
        "# ----------------------------\n",
        "# Função que verifica desigualdade triangular\n",
        "# ----------------------------\n",
        "def triagulo_valido(a, b, c):\n",
        "    return (a < b + c) and (b < a + c) and (c < a + b)\n",
        "\n",
        "# ----------------------------\n",
        "# Função principal para encontrar A\n",
        "# ----------------------------\n",
        "def encontrar_angulo(a, b, c, metodo='fsolve'):\n",
        "    \"\"\"\n",
        "    Encontra o ângulo A usando métodos numéricos\n",
        "    \"\"\"\n",
        "    if not triagulo_valido(a, b, c):\n",
        "        raise ValueError(\"Triângulo inválido com essas medidas!\")\n",
        "\n",
        "    # Chute inicial para o ângulo (rad)\n",
        "    chute_inicial = np.pi / 4  # 45 graus, razoável para Newton ou fsolve\n",
        "\n",
        "    if metodo == 'fsolve':\n",
        "        A_sol = fsolve(equacao_cosseno, chute_inicial, args=(a, b, c))\n",
        "    else:\n",
        "        raise NotImplementedError(\"Método não implementado ainda\")\n",
        "\n",
        "    return A_sol[0]\n",
        "\n",
        "# ----------------------------\n",
        "# Exemplo de uso\n",
        "# ----------------------------\n",
        "if __name__ == \"__main__\":\n",
        "    # Vamos escolher b e c arbitrários\n",
        "    b = 3\n",
        "    c = 4\n",
        "\n",
        "    # Hipotenusa mínima que satisfaça desigualdade triangular\n",
        "    a_min = abs(b - c) + 0.0001  # ligeiramente maior que a diferença\n",
        "    a_max = b + c - 0.0001       # ligeiramente menor que a soma\n",
        "\n",
        "    # Inicializamos uma lista para testar diferentes 'a'\n",
        "    angulos = []\n",
        "    a_valores = np.linspace(a_min, a_max, 10000)\n",
        "\n",
        "    for a in a_valores:\n",
        "        try:\n",
        "            A = encontrar_angulo(a, b, c)\n",
        "            angulos.append((a, A))\n",
        "        except ValueError:\n",
        "            continue\n",
        "\n",
        "    # Procurar o ângulo mais próximo de pi/2\n",
        "    a_retangulo, A_retangulo = min(angulos, key=lambda x: abs(x[1] - np.pi/2))\n",
        "\n",
        "    print(f\"Triângulo retângulo aproximado:\")\n",
        "    print(f\"a (hipotenusa) = {a_retangulo:.4f}\")\n",
        "    print(f\"b = {b}, c = {c}\")\n",
        "    print(f\"A (ângulo oposto a hipotenusa) = {A_retangulo:.4f} rad ≈ {np.degrees(A_retangulo):.2f}°\")\n"
      ],
      "metadata": {
        "colab": {
          "base_uri": "https://localhost:8080/"
        },
        "id": "1qlYRU0vg-6d",
        "outputId": "51ce1065-c59c-4759-f578-623a1b79d45f"
      },
      "execution_count": 4,
      "outputs": [
        {
          "output_type": "stream",
          "name": "stdout",
          "text": [
            "Triângulo retângulo aproximado:\n",
            "a (hipotenusa) = 5.0000\n",
            "b = 3, c = 4\n",
            "A (ângulo oposto a hipotenusa) = 1.5708 rad ≈ 90.00°\n"
          ]
        }
      ]
    },
    {
      "cell_type": "code",
      "source": [
        "\"\"\"\n",
        "Esta implementação serve como base para uma ideia maior: generalizar o\n",
        "algoritmo para outros teoremas da geometria, de modo a encontrar as\n",
        "hipóteses mínimas necessárias para que cada teorema seja válido,\n",
        "utilizando métodos numéricos e técnicas de minimização de hipóteses.\n",
        "\"\"\"\n"
      ],
      "metadata": {
        "colab": {
          "base_uri": "https://localhost:8080/",
          "height": 70
        },
        "id": "N_Wpe14Ng-gu",
        "outputId": "91e4a543-48a4-4580-f67d-df2151230d12"
      },
      "execution_count": 5,
      "outputs": [
        {
          "output_type": "execute_result",
          "data": {
            "text/plain": [
              "'\\nEsta implementação serve como base para uma ideia maior: generalizar o\\nalgoritmo para outros teoremas da geometria, de modo a encontrar as\\nhipóteses mínimas necessárias para que cada teorema seja válido,\\nutilizando métodos numéricos e técnicas de minimização de hipóteses.\\n'"
            ],
            "application/vnd.google.colaboratory.intrinsic+json": {
              "type": "string"
            }
          },
          "metadata": {},
          "execution_count": 5
        }
      ]
    }
  ]
}